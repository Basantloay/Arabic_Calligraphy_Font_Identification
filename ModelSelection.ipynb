{
 "cells": [
  {
   "cell_type": "code",
   "execution_count": 2,
   "metadata": {},
   "outputs": [],
   "source": [
    "import numpy as np\n",
    "from Preproccessing import preproccessing\n",
    "from FeatureExtraction import extract_features\n",
    "from IO import ReadDataSet\n",
    "from __future__ import division\n",
    "from sklearn import svm\n",
    "from sklearn.neural_network import MLPClassifier\n",
    "from sklearn.ensemble import VotingClassifier\n",
    "from sklearn.metrics import f1_score, accuracy_score\n",
    "from sklearn.model_selection import cross_val_score\n",
    "from sklearn.ensemble import AdaBoostClassifier ,StackingClassifier\n",
    "from sklearn.ensemble import RandomForestClassifier\n",
    "\n",
    "\n",
    "%load_ext autoreload\n",
    "%autoreload 2\n",
    "%matplotlib inline\n",
    "%matplotlib inline"
   ]
  },
  {
   "cell_type": "code",
   "execution_count": 3,
   "metadata": {},
   "outputs": [],
   "source": [
    "'''\n",
    "1. READ THE DATASET\n",
    "'''\n",
    "\n",
    "x,y = ReadDataSet()"
   ]
  },
  {
   "cell_type": "code",
   "execution_count": 4,
   "metadata": {},
   "outputs": [],
   "source": [
    "'''\n",
    "2. Apply Preproccesing and Feature Extraction on  DataSet \n",
    "'''\n",
    "features = np.zeros((len(x),255))\n",
    "for i in range(0,len(x)):\n",
    "    # Apply Preproccessing\n",
    "    x[i] = preproccessing(x[i])\n",
    "    # Feature Extraction\n",
    "    features[i] = extract_features(x[i])"
   ]
  },
  {
   "cell_type": "markdown",
   "metadata": {},
   "source": [
    "# SVM\n"
   ]
  },
  {
   "cell_type": "code",
   "execution_count": 8,
   "metadata": {},
   "outputs": [
    {
     "name": "stdout",
     "output_type": "stream",
     "text": [
      "When Gamma = 5 , Average Accuracy =  0.9661226508407518\n"
     ]
    }
   ],
   "source": [
    "score = cross_val_score(svm.SVC(probability=True, kernel = 'rbf' , gamma='scale', C=1000), features , y , cv=5)\n",
    "print('When Gamma = 5 , Average Accuracy = ', np.average(score))\n",
    "\n",
    "# score = cross_val_score(svm.SVC(probability=True, kernel = 'rbf' , gamma=3, C=1000), features , y , cv=5)\n",
    "# print('When Gamma = 10 , Average Accuracy = ', np.average(score))\n",
    "\n",
    "# score = cross_val_score(svm.SVC(probability=True, kernel = 'rbf' , gamma=4, C=1000), features , y , cv=5)\n",
    "# print('When Gamma = 11 , Average Accuracy = ',np.average(score))\n",
    "\n",
    "# score = cross_val_score(svm.SVC(probability=True, kernel = 'rbf' , gamma=5, C=1000), features , y , cv=5)\n",
    "# print('When Gamma = 12 , Average Accuracy = ',np.average(score))"
   ]
  },
  {
   "cell_type": "code",
   "execution_count": 4,
   "metadata": {},
   "outputs": [
    {
     "name": "stdout",
     "output_type": "stream",
     "text": [
      "When C = 1000 , Accuracy =  0.9655274127455137\n",
      "When C = 1500 , Accuracy =  0.9625529885544722\n"
     ]
    }
   ],
   "source": [
    "# score = cross_val_score(svm.SVC(probability=True, kernel = 'rbf' , gamma=5, C=300), features , y , cv=5)\n",
    "# print('When C = 300 , Accuracy = ',np.average(score))\n",
    "\n",
    "# score = cross_val_score(svm.SVC(probability=True, kernel = 'rbf' , gamma=5, C=350), features , y , cv=5)\n",
    "# print('When C = 350 , Accuracy = ',np.average(score))\n",
    "\n",
    "# score = cross_val_score(svm.SVC(probability=True, kernel = 'rbf' , gamma=5, C=400), features , y , cv=5)\n",
    "# print('When C = 400 , Accuracy = ',np.average(score))\n",
    "\n",
    "# score = cross_val_score(svm.SVC(probability=True, kernel = 'rbf' , gamma=5, C=450), features , y , cv=5)\n",
    "# print('When C = 450 , Accuracy = ',np.average(score))\n",
    "\n",
    "score = cross_val_score(svm.SVC(probability=True, kernel = 'rbf' , gamma=5, C=1000), features , y , cv=5)\n",
    "print('When C = 1000 , Accuracy = ', np.average(score))\n",
    "\n",
    "score = cross_val_score(svm.SVC(probability=True, kernel = 'rbf' , gamma=5, C=1500), features , y , cv=5)\n",
    "print('When C = 1500 , Accuracy = ', np.average(score))"
   ]
  },
  {
   "cell_type": "code",
   "execution_count": null,
   "metadata": {},
   "outputs": [
    {
     "name": "stdout",
     "output_type": "stream",
     "text": [
      "When C = 300 , Accuracy =  0.9328334746361453\n",
      "When C = 350 , Accuracy =  0.9346156563515613\n",
      "When C = 400 , Accuracy =  0.9358025999717394\n",
      "When C = 450 , Accuracy =  0.9393722622580191\n",
      "When C = 500 , Accuracy =  0.9417514483538222\n",
      "When C = 550 , Accuracy =  0.9476949978804579\n"
     ]
    }
   ],
   "source": [
    "score = cross_val_score(svm.SVC(probability=True, kernel = 'poly' , gamma=5, C=300), features , y , cv=5)\n",
    "print('When C = 300 , Accuracy = ',np.average(score))\n",
    "\n",
    "score = cross_val_score(svm.SVC(probability=True, kernel = 'poly' , gamma=5, C=350), features , y , cv=5)\n",
    "print('When C = 350 , Accuracy = ',np.average(score))\n",
    "\n",
    "score = cross_val_score(svm.SVC(probability=True, kernel = 'poly' , gamma=5, C=400), features , y , cv=5)\n",
    "print('When C = 400 , Accuracy = ',np.average(score))\n",
    "\n",
    "score = cross_val_score(svm.SVC(probability=True, kernel = 'poly' , gamma=5, C=450), features , y , cv=5)\n",
    "print('When C = 450 , Accuracy = ',np.average(score))\n",
    "\n",
    "score = cross_val_score(svm.SVC(probability=True, kernel = 'poly' , gamma=5, C=500), features , y , cv=5)\n",
    "print('When C = 500 , Accuracy = ', np.average(score))\n",
    "\n",
    "score = cross_val_score(svm.SVC(probability=True, kernel = 'poly' , gamma=5, C=1000), features , y , cv=5)\n",
    "print('When C = 550 , Accuracy = ', np.average(score))"
   ]
  },
  {
   "cell_type": "markdown",
   "metadata": {},
   "source": [
    "# MLP"
   ]
  },
  {
   "cell_type": "code",
   "execution_count": null,
   "metadata": {},
   "outputs": [
    {
     "name": "stdout",
     "output_type": "stream",
     "text": [
      "When Hidden Layers = [10] , Accuracy =  0.9470997597852197\n",
      "When Hidden Layers = [50] , Accuracy =  0.9661279496961989\n",
      "When Hidden Layers = [10,10] , Accuracy =  0.9369948424473646\n",
      "When Hidden Layers = [50,50] , Accuracy =  0.9566288681644763\n"
     ]
    }
   ],
   "source": [
    "score = cross_val_score(MLPClassifier(random_state=0, max_iter=3000, hidden_layer_sizes=[10]), features , y , cv=5)\n",
    "print('When Hidden Layers = [10] , Accuracy = ',np.average(score))\n",
    "\n",
    "score = cross_val_score(MLPClassifier(random_state=0, max_iter=3000, hidden_layer_sizes=[50]), features , y , cv=5)\n",
    "print('When Hidden Layers = [50] , Accuracy = ',np.average(score))\n",
    "\n",
    "score = cross_val_score(MLPClassifier(random_state=0, max_iter=3000, hidden_layer_sizes=[10,9]), features , y , cv=5)\n",
    "print('When Hidden Layers = [10,10] , Accuracy = ',np.average(score))\n",
    "\n",
    "score = cross_val_score(MLPClassifier(random_state=0, max_iter=3000, hidden_layer_sizes=[50,50]), features , y , cv=5)\n",
    "print('When Hidden Layers = [50,50] , Accuracy = ',np.average(score))\n"
   ]
  },
  {
   "cell_type": "code",
   "execution_count": null,
   "metadata": {},
   "outputs": [
    {
     "name": "stdout",
     "output_type": "stream",
     "text": [
      "When radnom state = 0 , Accuracy =  0.9369948424473646\n"
     ]
    }
   ],
   "source": [
    "score = cross_val_score(MLPClassifier(random_state=0, max_iter=3000, hidden_layer_sizes=[50]), features , y , cv=5)\n",
    "print('When radnom state = 0 , Accuracy = ',np.average(score))\n",
    "\n",
    "score = cross_val_score(MLPClassifier(random_state=1, max_iter=3000, hidden_layer_sizes=[50]), features , y , cv=5)\n",
    "print('When random state  = 1 , Accuracy = ',np.average(score))\n",
    "\n",
    "score = cross_val_score(MLPClassifier(random_state=None, max_iter=3000, hidden_layer_sizes=[50]), features , y , cv=5)\n",
    "print('When random state = None , Accuracy = ',np.average(score))"
   ]
  },
  {
   "cell_type": "code",
   "execution_count": null,
   "metadata": {},
   "outputs": [],
   "source": []
  },
  {
   "cell_type": "markdown",
   "metadata": {},
   "source": [
    "# Voting Classifier"
   ]
  },
  {
   "cell_type": "code",
   "execution_count": null,
   "metadata": {},
   "outputs": [
    {
     "name": "stdout",
     "output_type": "stream",
     "text": [
      "When No weights , Accuracy =  0.9655327116009609\n",
      "When  weights = [2,1] , Accuracy =  0.9673131270312278\n",
      "When  weights = [1,2] , Accuracy =  0.9655327116009609\n"
     ]
    }
   ],
   "source": [
    "clf1 = svm.SVC(probability=True, kernel = 'rbf' , gamma=5, C=1000)\n",
    "clf1 = svm.SVC(probability=True, kernel = 'rbf' , gamma=5, C=1000)\n",
    "clf2 = MLPClassifier(random_state=0, max_iter=3000, hidden_layer_sizes=[50])\n",
    "clf = VotingClassifier(estimators=[('SVM',clf1) ,('MLP',clf2)], voting='soft' )\n",
    "score = cross_val_score(clf, features , y , cv=5)\n",
    "print('When No weights , Accuracy = ',np.average(score))\n",
    "\n",
    "clf = VotingClassifier(estimators=[('SVM',clf1) ,('MLP',clf2)], voting='soft' ,weights=[2,1])\n",
    "score = cross_val_score(clf, features , y , cv=5)\n",
    "print('When  weights = [2,1] , Accuracy = ',np.average(score))\n",
    "\n",
    "clf = VotingClassifier(estimators=[('SVM',clf1) ,('MLP',clf2)], voting='soft' ,weights=[1,2])\n",
    "score = cross_val_score(clf, features , y , cv=5)\n",
    "print('When  weights = [1,2] , Accuracy = ',np.average(score))"
   ]
  },
  {
   "cell_type": "code",
   "execution_count": 8,
   "metadata": {},
   "outputs": [
    {
     "name": "stdout",
     "output_type": "stream",
     "text": [
      "When No weights , Accuracy =  0.9655274127455137\n",
      "When  weights = [2,1] , Accuracy =  nan\n",
      "When  weights = [1,2] , Accuracy =  nan\n"
     ]
    },
    {
     "name": "stderr",
     "output_type": "stream",
     "text": [
      "D:\\Sources\\anconda\\lib\\site-packages\\sklearn\\model_selection\\_validation.py:548: FitFailedWarning: Estimator fit failed. The score on this train-test partition for these parameters will be set to nan. Details: \n",
      "Traceback (most recent call last):\n",
      "  File \"D:\\Sources\\anconda\\lib\\site-packages\\sklearn\\model_selection\\_validation.py\", line 531, in _fit_and_score\n",
      "    estimator.fit(X_train, y_train, **fit_params)\n",
      "  File \"D:\\Sources\\anconda\\lib\\site-packages\\sklearn\\ensemble\\_voting.py\", line 265, in fit\n",
      "    return super().fit(X, transformed_y, sample_weight)\n",
      "  File \"D:\\Sources\\anconda\\lib\\site-packages\\sklearn\\ensemble\\_voting.py\", line 69, in fit\n",
      "    raise ValueError('Number of `estimators` and weights must be equal'\n",
      "ValueError: Number of `estimators` and weights must be equal; got 3 weights, 2 estimators\n",
      "\n",
      "  warnings.warn(\"Estimator fit failed. The score on this train-test\"\n",
      "D:\\Sources\\anconda\\lib\\site-packages\\sklearn\\model_selection\\_validation.py:548: FitFailedWarning: Estimator fit failed. The score on this train-test partition for these parameters will be set to nan. Details: \n",
      "Traceback (most recent call last):\n",
      "  File \"D:\\Sources\\anconda\\lib\\site-packages\\sklearn\\model_selection\\_validation.py\", line 531, in _fit_and_score\n",
      "    estimator.fit(X_train, y_train, **fit_params)\n",
      "  File \"D:\\Sources\\anconda\\lib\\site-packages\\sklearn\\ensemble\\_voting.py\", line 265, in fit\n",
      "    return super().fit(X, transformed_y, sample_weight)\n",
      "  File \"D:\\Sources\\anconda\\lib\\site-packages\\sklearn\\ensemble\\_voting.py\", line 69, in fit\n",
      "    raise ValueError('Number of `estimators` and weights must be equal'\n",
      "ValueError: Number of `estimators` and weights must be equal; got 3 weights, 2 estimators\n",
      "\n",
      "  warnings.warn(\"Estimator fit failed. The score on this train-test\"\n"
     ]
    }
   ],
   "source": [
    "\n",
    "# clf = VotingClassifier(estimators=[('SVM',clf1) ,('MLP',clf2)], voting='hard' ,weights=[2,2,1])\n",
    "# score = cross_val_score(clf, features , y , cv=5)\n",
    "# print('When  weights = [2,1] , Accuracy = ',np.average(score))\n",
    "\n",
    "# clf = VotingClassifier(estimators=[('SVM',clf1) ,('MLP',clf2)], voting='hard' ,weights=[1,2,2])\n",
    "# score = cross_val_score(clf, features , y , cv=5)\n",
    "# print('When  weights = [1,2] , Accuracy = ',np.average(score))clf1 = svm.SVC(probability=True, kernel = 'rbf' , gamma=5, C=1000)\n",
    "clf2 = svm.SVC(probability=True, kernel = 'rbf' , gamma=5, C=1000)\n",
    "clf3 = MLPClassifier(random_state=0, max_iter=3000, hidden_layer_sizes=[50])\n",
    "clf = VotingClassifier(estimators=[('SVM1',clf1) ,('SVM2',clf2) ,('MLP',clf3)], voting='hard' ,weights=[2,3,1])\n",
    "score = cross_val_score(clf, features , y , cv=5)\n",
    "print('When No weights , Accuracy = ',np.average(score))\n"
   ]
  },
  {
   "cell_type": "markdown",
   "metadata": {},
   "source": [
    "# Adaboost"
   ]
  },
  {
   "cell_type": "code",
   "execution_count": 7,
   "metadata": {},
   "outputs": [
    {
     "name": "stdout",
     "output_type": "stream",
     "text": [
      "When no_estimators = 100 , Accuracy =  0.24178677405680374\n",
      "When no_estimators = 50 , Accuracy =  0.24178677405680374\n"
     ]
    }
   ],
   "source": [
    "clf = AdaBoostClassifier(n_estimators=100, random_state=1, learning_rate=1)\n",
    "score = cross_val_score(clf, features , y , cv=5)\n",
    "print('When no_estimators = 100 , Accuracy = ',np.average(score))\n",
    "\n",
    "clf = AdaBoostClassifier(n_estimators=50, random_state=1,learning_rate=1)\n",
    "score = cross_val_score(clf, features , y , cv=5)\n",
    "print('When no_estimators = 50 , Accuracy = ',np.average(score))\n"
   ]
  },
  {
   "cell_type": "markdown",
   "metadata": {},
   "source": [
    "# Stacking Classifier"
   ]
  },
  {
   "cell_type": "code",
   "execution_count": 5,
   "metadata": {},
   "outputs": [
    {
     "name": "stderr",
     "output_type": "stream",
     "text": [
      "D:\\Sources\\anconda\\lib\\site-packages\\sklearn\\neural_network\\_multilayer_perceptron.py:587: UserWarning: Training interrupted by user.\n",
      "  warnings.warn(\"Training interrupted by user.\")\n"
     ]
    }
   ],
   "source": [
    "# Base Estimators\n",
    "\n",
    "clf = svm.SVC(probability=True, kernel = 'rbf' , gamma=5, C=1000)\n",
    "\n",
    "clf1 = MLPClassifier(random_state=0, max_iter=3000, hidden_layer_sizes=[50])\n",
    "\n",
    "stacking = StackingClassifier(estimators=[('svm',clf),('MLP',clf1)])\n",
    "\n",
    "score = cross_val_score(stacking, features , y , cv=5)\n",
    "print('When no_estimators = 50 , Accuracy = ',np.average(score))\n"
   ]
  }
 ],
 "metadata": {
  "interpreter": {
   "hash": "46927a52175fa8cbc039fbccbe03b8f2515f3382e3d584a253e4755b5701a86e"
  },
  "kernelspec": {
   "display_name": "Python 3.8.5 64-bit ('base': conda)",
   "language": "python",
   "name": "python3"
  },
  "language_info": {
   "codemirror_mode": {
    "name": "ipython",
    "version": 3
   },
   "file_extension": ".py",
   "mimetype": "text/x-python",
   "name": "python",
   "nbconvert_exporter": "python",
   "pygments_lexer": "ipython3",
   "version": "3.8.5"
  },
  "orig_nbformat": 4
 },
 "nbformat": 4,
 "nbformat_minor": 2
}
