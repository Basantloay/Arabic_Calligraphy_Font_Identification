{
 "cells": [
  {
   "cell_type": "code",
   "execution_count": 1,
   "metadata": {},
   "outputs": [],
   "source": [
    "import numpy as np\n",
    "from Preproccessing import preproccessing\n",
    "from FeatureExtraction import extract_features\n",
    "from IO import ReadDataSet\n",
    "from __future__ import division\n",
    "from sklearn import svm\n",
    "from sklearn.neural_network import MLPClassifier\n",
    "from sklearn.ensemble import VotingClassifier\n",
    "from sklearn.metrics import f1_score, accuracy_score\n",
    "from sklearn.model_selection import cross_val_score\n",
    "\n",
    "%load_ext autoreload\n",
    "%autoreload 2\n",
    "%matplotlib inline\n",
    "%matplotlib inline"
   ]
  },
  {
   "cell_type": "code",
   "execution_count": 2,
   "metadata": {},
   "outputs": [
    {
     "name": "stderr",
     "output_type": "stream",
     "text": [
      "c:\\Users\\aliaa\\Documents\\Pattern\\IO.py:15: VisibleDeprecationWarning: Creating an ndarray from ragged nested sequences (which is a list-or-tuple of lists-or-tuples-or ndarrays with different lengths or shapes) is deprecated. If you meant to do this, you must specify 'dtype=object' when creating the ndarray\n",
      "  x= np.array(x)\n"
     ]
    }
   ],
   "source": [
    "'''\n",
    "1. READ THE DATASET\n",
    "'''\n",
    "\n",
    "x,y = ReadDataSet()"
   ]
  },
  {
   "cell_type": "code",
   "execution_count": 3,
   "metadata": {},
   "outputs": [],
   "source": [
    "'''\n",
    "2. Apply Preproccesing and Feature Extraction on  DataSet \n",
    "'''\n",
    "features = np.zeros((len(x),255))\n",
    "for i in range(0,len(x)):\n",
    "    # Apply Preproccessing\n",
    "    x[i] = preproccessing(x[i])\n",
    "    # Feature Extraction\n",
    "    features[i] = extract_features(x[i])"
   ]
  },
  {
   "cell_type": "markdown",
   "metadata": {},
   "source": [
    "# SVM\n"
   ]
  },
  {
   "cell_type": "code",
   "execution_count": null,
   "metadata": {},
   "outputs": [
    {
     "name": "stdout",
     "output_type": "stream",
     "text": [
      "When Gamma = 5 , Average Accuracy =  0.9661261834110499\n",
      "When Gamma = 10 , Average Accuracy =  0.9601844001695634\n",
      "When Gamma = 11 , Average Accuracy =  0.9601844001695634\n",
      "When Gamma = 12 , Average Accuracy =  0.9607778719796525\n"
     ]
    }
   ],
   "source": [
    "score = cross_val_score(svm.SVC(probability=True, kernel = 'rbf' , gamma=5, C=300), features , y , cv=5)\n",
    "print('When Gamma = 5 , Average Accuracy = ', np.average(score))\n",
    "\n",
    "score = cross_val_score(svm.SVC(probability=True, kernel = 'rbf' , gamma=10, C=300), features , y , cv=5)\n",
    "print('When Gamma = 10 , Average Accuracy = ', np.average(score))\n",
    "\n",
    "score = cross_val_score(svm.SVC(probability=True, kernel = 'rbf' , gamma=11, C=300), features , y , cv=5)\n",
    "print('When Gamma = 11 , Average Accuracy = ',np.average(score))\n",
    "\n",
    "score = cross_val_score(svm.SVC(probability=True, kernel = 'rbf' , gamma=12, C=300), features , y , cv=5)\n",
    "print('When Gamma = 12 , Average Accuracy = ',np.average(score))"
   ]
  },
  {
   "cell_type": "code",
   "execution_count": null,
   "metadata": {},
   "outputs": [
    {
     "name": "stdout",
     "output_type": "stream",
     "text": [
      "When C = 300 , Accuracy =  0.9661261834110499\n",
      "When C = 350 , Accuracy =  0.9643440016956337\n",
      "When C = 400 , Accuracy =  0.9643404691253356\n",
      "When C = 450 , Accuracy =  0.9643404691253356\n",
      "When C = 500 , Accuracy =  0.9637469973152465\n",
      "When C = 550 , Accuracy =  0.9655274127455137\n"
     ]
    }
   ],
   "source": [
    "score = cross_val_score(svm.SVC(probability=True, kernel = 'rbf' , gamma=5, C=300), features , y , cv=5)\n",
    "print('When C = 300 , Accuracy = ',np.average(score))\n",
    "\n",
    "score = cross_val_score(svm.SVC(probability=True, kernel = 'rbf' , gamma=5, C=350), features , y , cv=5)\n",
    "print('When C = 350 , Accuracy = ',np.average(score))\n",
    "\n",
    "score = cross_val_score(svm.SVC(probability=True, kernel = 'rbf' , gamma=5, C=400), features , y , cv=5)\n",
    "print('When C = 400 , Accuracy = ',np.average(score))\n",
    "\n",
    "score = cross_val_score(svm.SVC(probability=True, kernel = 'rbf' , gamma=5, C=450), features , y , cv=5)\n",
    "print('When C = 450 , Accuracy = ',np.average(score))\n",
    "\n",
    "score = cross_val_score(svm.SVC(probability=True, kernel = 'rbf' , gamma=5, C=500), features , y , cv=5)\n",
    "print('When C = 500 , Accuracy = ', np.average(score))\n",
    "\n",
    "score = cross_val_score(svm.SVC(probability=True, kernel = 'rbf' , gamma=5, C=1000), features , y , cv=5)\n",
    "print('When C = 550 , Accuracy = ', np.average(score))\n",
    "\n"
   ]
  },
  {
   "cell_type": "markdown",
   "metadata": {},
   "source": [
    "# MLP"
   ]
  },
  {
   "cell_type": "code",
   "execution_count": null,
   "metadata": {},
   "outputs": [
    {
     "name": "stdout",
     "output_type": "stream",
     "text": [
      "When Hidden Layers = [10] , Accuracy =  0.9470997597852197\n",
      "When Hidden Layers = [50] , Accuracy =  0.9661279496961989\n",
      "When Hidden Layers = [10,10] , Accuracy =  0.9369948424473646\n",
      "When Hidden Layers = [50,50] , Accuracy =  0.9566288681644763\n"
     ]
    }
   ],
   "source": [
    "score = cross_val_score(MLPClassifier(random_state=0, max_iter=3000, hidden_layer_sizes=[10]), features , y , cv=5)\n",
    "print('When Hidden Layers = [10] , Accuracy = ',np.average(score))\n",
    "\n",
    "score = cross_val_score(MLPClassifier(random_state=0, max_iter=3000, hidden_layer_sizes=[50]), features , y , cv=5)\n",
    "print('When Hidden Layers = [50] , Accuracy = ',np.average(score))\n",
    "\n",
    "score = cross_val_score(MLPClassifier(random_state=0, max_iter=3000, hidden_layer_sizes=[10,9]), features , y , cv=5)\n",
    "print('When Hidden Layers = [10,10] , Accuracy = ',np.average(score))\n",
    "\n",
    "score = cross_val_score(MLPClassifier(random_state=0, max_iter=3000, hidden_layer_sizes=[50,50]), features , y , cv=5)\n",
    "print('When Hidden Layers = [50,50] , Accuracy = ',np.average(score))\n"
   ]
  },
  {
   "cell_type": "code",
   "execution_count": null,
   "metadata": {},
   "outputs": [
    {
     "name": "stdout",
     "output_type": "stream",
     "text": [
      "When radnom state = 0 , Accuracy =  0.9369948424473646\n"
     ]
    }
   ],
   "source": [
    "score = cross_val_score(MLPClassifier(random_state=0, max_iter=3000, hidden_layer_sizes=[50]), features , y , cv=5)\n",
    "print('When radnom state = 0 , Accuracy = ',np.average(score))\n",
    "\n",
    "score = cross_val_score(MLPClassifier(random_state=1, max_iter=3000, hidden_layer_sizes=[50]), features , y , cv=5)\n",
    "print('When random state  = 1 , Accuracy = ',np.average(score))\n",
    "\n",
    "score = cross_val_score(MLPClassifier(random_state=None, max_iter=3000, hidden_layer_sizes=[50]), features , y , cv=5)\n",
    "print('When random state = None , Accuracy = ',np.average(score))"
   ]
  },
  {
   "cell_type": "code",
   "execution_count": null,
   "metadata": {},
   "outputs": [],
   "source": []
  },
  {
   "cell_type": "markdown",
   "metadata": {},
   "source": [
    "# Voting Classifier"
   ]
  },
  {
   "cell_type": "code",
   "execution_count": 4,
   "metadata": {},
   "outputs": [
    {
     "name": "stdout",
     "output_type": "stream",
     "text": [
      "When No weights , Accuracy =  0.9655327116009609\n",
      "When  weights = [2,1] , Accuracy =  0.9673131270312278\n",
      "When  weights = [1,2] , Accuracy =  0.9655327116009609\n"
     ]
    }
   ],
   "source": [
    "clf1 = svm.SVC(probability=True, kernel = 'rbf' , gamma=5, C=300)\n",
    "clf2 = MLPClassifier(random_state=0, max_iter=3000, hidden_layer_sizes=[50])\n",
    "\n",
    "clf = VotingClassifier(estimators=[('SVM',clf1) ,('MLP',clf2)], voting='soft' )\n",
    "score = cross_val_score(clf, features , y , cv=5)\n",
    "print('When No weights , Accuracy = ',np.average(score))\n",
    "\n",
    "clf = VotingClassifier(estimators=[('SVM',clf1) ,('MLP',clf2)], voting='soft' ,weights=[2,1])\n",
    "score = cross_val_score(clf, features , y , cv=5)\n",
    "print('When  weights = [2,1] , Accuracy = ',np.average(score))\n",
    "\n",
    "clf = VotingClassifier(estimators=[('SVM',clf1) ,('MLP',clf2)], voting='soft' ,weights=[1,2])\n",
    "score = cross_val_score(clf, features , y , cv=5)\n",
    "print('When  weights = [1,2] , Accuracy = ',np.average(score))"
   ]
  },
  {
   "cell_type": "code",
   "execution_count": 5,
   "metadata": {},
   "outputs": [
    {
     "name": "stdout",
     "output_type": "stream",
     "text": [
      "When No weights , Accuracy =  0.9655327116009609\n",
      "When  weights = [2,1] , Accuracy =  0.9661261834110499\n"
     ]
    },
    {
     "name": "stderr",
     "output_type": "stream",
     "text": [
      "D:\\Sources\\anconda\\lib\\site-packages\\sklearn\\neural_network\\_multilayer_perceptron.py:587: UserWarning: Training interrupted by user.\n",
      "  warnings.warn(\"Training interrupted by user.\")\n"
     ]
    },
    {
     "name": "stdout",
     "output_type": "stream",
     "text": [
      "When  weights = [1,2] , Accuracy =  0.9661279496961989\n"
     ]
    }
   ],
   "source": [
    "clf1 = svm.SVC(probability=True, kernel = 'rbf' , gamma=5, C=300)\n",
    "clf2 = MLPClassifier(random_state=0, max_iter=3000, hidden_layer_sizes=[50])\n",
    "\n",
    "clf = VotingClassifier(estimators=[('SVM',clf1) ,('MLP',clf2)], voting='hard' )\n",
    "score = cross_val_score(clf, features , y , cv=5)\n",
    "print('When No weights , Accuracy = ',np.average(score))\n",
    "\n",
    "clf = VotingClassifier(estimators=[('SVM',clf1) ,('MLP',clf2)], voting='hard' ,weights=[2,1])\n",
    "score = cross_val_score(clf, features , y , cv=5)\n",
    "print('When  weights = [2,1] , Accuracy = ',np.average(score))\n",
    "\n",
    "clf = VotingClassifier(estimators=[('SVM',clf1) ,('MLP',clf2)], voting='hard' ,weights=[1,2])\n",
    "score = cross_val_score(clf, features , y , cv=5)\n",
    "print('When  weights = [1,2] , Accuracy = ',np.average(score))"
   ]
  }
 ],
 "metadata": {
  "interpreter": {
   "hash": "46927a52175fa8cbc039fbccbe03b8f2515f3382e3d584a253e4755b5701a86e"
  },
  "kernelspec": {
   "display_name": "Python 3.8.5 64-bit ('base': conda)",
   "language": "python",
   "name": "python3"
  },
  "language_info": {
   "codemirror_mode": {
    "name": "ipython",
    "version": 3
   },
   "file_extension": ".py",
   "mimetype": "text/x-python",
   "name": "python",
   "nbconvert_exporter": "python",
   "pygments_lexer": "ipython3",
   "version": "3.8.5"
  },
  "orig_nbformat": 4
 },
 "nbformat": 4,
 "nbformat_minor": 2
}
