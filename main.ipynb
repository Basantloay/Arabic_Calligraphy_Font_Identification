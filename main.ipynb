{
 "cells": [
  {
   "cell_type": "markdown",
   "metadata": {},
   "source": [
    "# Imports"
   ]
  },
  {
   "cell_type": "code",
   "execution_count": 1,
   "metadata": {},
   "outputs": [],
   "source": [
    "#Always make all imports in the first cell of the notebook, run them all once.\n",
    "import numpy as np\n",
    "from Preproccessing import preproccessing\n",
    "from FeatureExtraction import extract_features\n",
    "from IO import ReadDataSet\n",
    "from Phase1 import Phase1\n",
    "from sklearn.model_selection import train_test_split\n",
    "import time\n",
    "from sklearn.metrics import f1_score, accuracy_score\n",
    "import cv2\n",
    "import glob\n",
    "\n",
    "\n",
    "%load_ext autoreload\n",
    "%autoreload 2\n",
    "%matplotlib inline"
   ]
  },
  {
   "cell_type": "markdown",
   "metadata": {},
   "source": [
    "# Read Dataset"
   ]
  },
  {
   "cell_type": "code",
   "execution_count": null,
   "metadata": {},
   "outputs": [
    {
     "name": "stderr",
     "output_type": "stream",
     "text": [
      "c:\\Users\\aliaa\\Documents\\Pattern\\IO.py:15: VisibleDeprecationWarning: Creating an ndarray from ragged nested sequences (which is a list-or-tuple of lists-or-tuples-or ndarrays with different lengths or shapes) is deprecated. If you meant to do this, you must specify 'dtype=object' when creating the ndarray\n",
      "  x= np.array(x)\n"
     ]
    }
   ],
   "source": [
    "'''\n",
    "1.a) READ THE DATASET\n",
    "'''\n",
    "x,y = ReadDataSet()\n",
    "\n",
    "'''\n",
    " 1.b) Splitting the data \n",
    "        Training Set : 70%\n",
    "        Test Set : 15 %\n",
    "'''\n",
    "x_train, x_test, y_train, y_test = train_test_split(x, y, test_size = 0.2, random_state=42)"
   ]
  },
  {
   "cell_type": "markdown",
   "metadata": {},
   "source": [
    "# PHASE-1\n",
    "Training Phase"
   ]
  },
  {
   "cell_type": "code",
   "execution_count": null,
   "metadata": {},
   "outputs": [],
   "source": [
    "model = Phase1(x_train,y_train)"
   ]
  },
  {
   "cell_type": "markdown",
   "metadata": {},
   "source": [
    "# PHASE-2\n",
    "Testing Phase"
   ]
  },
  {
   "cell_type": "code",
   "execution_count": null,
   "metadata": {},
   "outputs": [],
   "source": [
    "# # read test data from file\n",
    "# x_test = []\n",
    "# for filename in sorted(glob.glob('./test/*.*')):\n",
    "#     img = cv2.imread(filename) \n",
    "#     x_test.append(img)\n",
    "\n",
    "# y_test = [ 1, 7 ,2 ,3]\n",
    "# print(len(x_test))\n",
    "# print(y_test)"
   ]
  },
  {
   "cell_type": "code",
   "execution_count": null,
   "metadata": {},
   "outputs": [],
   "source": []
  },
  {
   "cell_type": "code",
   "execution_count": null,
   "metadata": {},
   "outputs": [],
   "source": [
    "y_pred = np.zeros(len(x_test))\n",
    "runningTime = np.zeros(len(x_test))\n",
    "\n",
    "# 1) Loop on test data\n",
    "total_start = time.time()\n",
    "for i in range(0,len(x_test)):\n",
    "    # start timer\n",
    "    start = time.time()\n",
    "    # 2) Preprocess and extract features from the test data\n",
    "    x_test[i] = preproccessing(x_test[i].astype('uint8'))\n",
    "    x_test[i] = extract_features(x_test[i])\n",
    "    y_pred[i] = model.predict([x_test[i]])\n",
    "    # stop timer\n",
    "    runningTime[i] = time.time()-start\n",
    "\n",
    "total_running = time.time() - total_start\n"
   ]
  },
  {
   "cell_type": "code",
   "execution_count": null,
   "metadata": {},
   "outputs": [
    {
     "name": "stdout",
     "output_type": "stream",
     "text": [
      "runningTime in sec = 20.102794647216797\n",
      "Accuracy =  98.81305637982196\n",
      "F1Score =  98.81366952068548\n"
     ]
    }
   ],
   "source": [
    "# calculate model accuracy and F1Score\n",
    "print('runningTime in sec =', total_running)\n",
    "print('Accuracy = ' , (sum(y_pred == y_test)/len(y_test))*100)\n",
    "print('F1Score = ',  f1_score(y_test, y_pred, average='weighted') *100)"
   ]
  },
  {
   "cell_type": "code",
   "execution_count": null,
   "metadata": {},
   "outputs": [],
   "source": []
  }
 ],
 "metadata": {
  "interpreter": {
   "hash": "46927a52175fa8cbc039fbccbe03b8f2515f3382e3d584a253e4755b5701a86e"
  },
  "kernelspec": {
   "display_name": "Python 3.8.5 64-bit ('base': conda)",
   "language": "python",
   "name": "python3"
  },
  "language_info": {
   "codemirror_mode": {
    "name": "ipython",
    "version": 3
   },
   "file_extension": ".py",
   "mimetype": "text/x-python",
   "name": "python",
   "nbconvert_exporter": "python",
   "pygments_lexer": "ipython3",
   "version": "3.8.5"
  },
  "orig_nbformat": 4
 },
 "nbformat": 4,
 "nbformat_minor": 2
}
